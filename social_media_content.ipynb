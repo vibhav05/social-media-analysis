{
 "cells": [
  {
   "cell_type": "code",
   "execution_count": 1,
   "metadata": {},
   "outputs": [],
   "source": [
    "import pandas as pd\n",
    "import matplotlib.pyplot as plt\n",
    "import seaborn as sns"
   ]
  },
  {
   "cell_type": "code",
   "execution_count": 2,
   "metadata": {},
   "outputs": [],
   "source": [
    "import nltk\n",
    "import numpy as np"
   ]
  },
  {
   "cell_type": "code",
   "execution_count": 3,
   "metadata": {},
   "outputs": [],
   "source": [
    "from nltk.corpus import stopwords"
   ]
  },
  {
   "cell_type": "code",
   "execution_count": 4,
   "metadata": {},
   "outputs": [],
   "source": [
    "from nltk.stem import PorterStemmer"
   ]
  },
  {
   "cell_type": "code",
   "execution_count": 5,
   "metadata": {},
   "outputs": [],
   "source": [
    "from nltk.stem import WordNetLemmatizer"
   ]
  },
  {
   "cell_type": "code",
   "execution_count": null,
   "metadata": {},
   "outputs": [],
   "source": []
  },
  {
   "cell_type": "code",
   "execution_count": 6,
   "metadata": {},
   "outputs": [],
   "source": [
    "category=pd.read_csv('C:\\\\Users\\\\lenovo\\\\Downloads\\\\Assignment for ML engineer - Categorise.csv')"
   ]
  },
  {
   "cell_type": "code",
   "execution_count": 7,
   "metadata": {},
   "outputs": [
    {
     "data": {
      "text/html": [
       "<div>\n",
       "<style scoped>\n",
       "    .dataframe tbody tr th:only-of-type {\n",
       "        vertical-align: middle;\n",
       "    }\n",
       "\n",
       "    .dataframe tbody tr th {\n",
       "        vertical-align: top;\n",
       "    }\n",
       "\n",
       "    .dataframe thead th {\n",
       "        text-align: right;\n",
       "    }\n",
       "</style>\n",
       "<table border=\"1\" class=\"dataframe\">\n",
       "  <thead>\n",
       "    <tr style=\"text-align: right;\">\n",
       "      <th></th>\n",
       "      <th>Statement</th>\n",
       "      <th>Keywords</th>\n",
       "    </tr>\n",
       "  </thead>\n",
       "  <tbody>\n",
       "    <tr>\n",
       "      <td>0</td>\n",
       "      <td>:dizzy::sunflower::herb: You might not see it ...</td>\n",
       "      <td>amazondotin amazonfashion amazoninfluencer bek...</td>\n",
       "    </tr>\n",
       "    <tr>\n",
       "      <td>1</td>\n",
       "      <td>Yes You heard it right... You can have paratha...</td>\n",
       "      <td>awifesperspective</td>\n",
       "    </tr>\n",
       "    <tr>\n",
       "      <td>2</td>\n",
       "      <td>Those were the days.... No Corona No masks.......</td>\n",
       "      <td>awifesperspective</td>\n",
       "    </tr>\n",
       "    <tr>\n",
       "      <td>3</td>\n",
       "      <td>Agree??It happens to me every week... What abo...</td>\n",
       "      <td>awifesperspective</td>\n",
       "    </tr>\n",
       "    <tr>\n",
       "      <td>4</td>\n",
       "      <td>:white_medium_star::upside-down_face::white_me...</td>\n",
       "      <td>bowtieandlipsticks covid19 gocoronago healthti...</td>\n",
       "    </tr>\n",
       "  </tbody>\n",
       "</table>\n",
       "</div>"
      ],
      "text/plain": [
       "                                           Statement  \\\n",
       "0  :dizzy::sunflower::herb: You might not see it ...   \n",
       "1  Yes You heard it right... You can have paratha...   \n",
       "2  Those were the days.... No Corona No masks.......   \n",
       "3  Agree??It happens to me every week... What abo...   \n",
       "4  :white_medium_star::upside-down_face::white_me...   \n",
       "\n",
       "                                            Keywords  \n",
       "0  amazondotin amazonfashion amazoninfluencer bek...  \n",
       "1                                  awifesperspective  \n",
       "2                                  awifesperspective  \n",
       "3                                  awifesperspective  \n",
       "4  bowtieandlipsticks covid19 gocoronago healthti...  "
      ]
     },
     "execution_count": 7,
     "metadata": {},
     "output_type": "execute_result"
    }
   ],
   "source": [
    "category.head()"
   ]
  },
  {
   "cell_type": "code",
   "execution_count": 8,
   "metadata": {},
   "outputs": [],
   "source": [
    "city=pd.read_csv('C:\\\\Users\\\\lenovo\\\\Downloads\\\\Assignment for ML engineer - City data.csv')"
   ]
  },
  {
   "cell_type": "code",
   "execution_count": 9,
   "metadata": {},
   "outputs": [
    {
     "data": {
      "text/html": [
       "<div>\n",
       "<style scoped>\n",
       "    .dataframe tbody tr th:only-of-type {\n",
       "        vertical-align: middle;\n",
       "    }\n",
       "\n",
       "    .dataframe tbody tr th {\n",
       "        vertical-align: top;\n",
       "    }\n",
       "\n",
       "    .dataframe thead th {\n",
       "        text-align: right;\n",
       "    }\n",
       "</style>\n",
       "<table border=\"1\" class=\"dataframe\">\n",
       "  <thead>\n",
       "    <tr style=\"text-align: right;\">\n",
       "      <th></th>\n",
       "      <th>Primary city</th>\n",
       "      <th>Secondary city</th>\n",
       "    </tr>\n",
       "  </thead>\n",
       "  <tbody>\n",
       "    <tr>\n",
       "      <td>0</td>\n",
       "      <td>New Delhi,DL,India</td>\n",
       "      <td>NCR</td>\n",
       "    </tr>\n",
       "    <tr>\n",
       "      <td>1</td>\n",
       "      <td>Mumbai, MH, India</td>\n",
       "      <td>Mumbai</td>\n",
       "    </tr>\n",
       "    <tr>\n",
       "      <td>2</td>\n",
       "      <td>Mumbai,MH,India</td>\n",
       "      <td>Ayatana Coorg</td>\n",
       "    </tr>\n",
       "    <tr>\n",
       "      <td>3</td>\n",
       "      <td>New Delhi,DL,India</td>\n",
       "      <td>Chandni Chowk</td>\n",
       "    </tr>\n",
       "    <tr>\n",
       "      <td>4</td>\n",
       "      <td>Vadodara, GJ, India</td>\n",
       "      <td>Vadodara, Gujarat, India</td>\n",
       "    </tr>\n",
       "  </tbody>\n",
       "</table>\n",
       "</div>"
      ],
      "text/plain": [
       "          Primary city            Secondary city\n",
       "0   New Delhi,DL,India                       NCR\n",
       "1    Mumbai, MH, India                    Mumbai\n",
       "2      Mumbai,MH,India             Ayatana Coorg\n",
       "3   New Delhi,DL,India             Chandni Chowk\n",
       "4  Vadodara, GJ, India  Vadodara, Gujarat, India"
      ]
     },
     "execution_count": 9,
     "metadata": {},
     "output_type": "execute_result"
    }
   ],
   "source": [
    "city.head()"
   ]
  },
  {
   "cell_type": "code",
   "execution_count": 10,
   "metadata": {},
   "outputs": [],
   "source": [
    "comment=pd.read_csv('C:\\\\Users\\\\lenovo\\\\Downloads\\\\Assignment for ML engineer - Comment Analysis.csv')"
   ]
  },
  {
   "cell_type": "code",
   "execution_count": 11,
   "metadata": {},
   "outputs": [
    {
     "data": {
      "text/html": [
       "<div>\n",
       "<style scoped>\n",
       "    .dataframe tbody tr th:only-of-type {\n",
       "        vertical-align: middle;\n",
       "    }\n",
       "\n",
       "    .dataframe tbody tr th {\n",
       "        vertical-align: top;\n",
       "    }\n",
       "\n",
       "    .dataframe thead th {\n",
       "        text-align: right;\n",
       "    }\n",
       "</style>\n",
       "<table border=\"1\" class=\"dataframe\">\n",
       "  <thead>\n",
       "    <tr style=\"text-align: right;\">\n",
       "      <th></th>\n",
       "      <th>Comment</th>\n",
       "    </tr>\n",
       "  </thead>\n",
       "  <tbody>\n",
       "    <tr>\n",
       "      <td>0</td>\n",
       "      <td>OMG i never Belive that i will be able to loss...</td>\n",
       "    </tr>\n",
       "    <tr>\n",
       "      <td>1</td>\n",
       "      <td>@plumbodylovin great giveaway lol... I was ski...</td>\n",
       "    </tr>\n",
       "    <tr>\n",
       "      <td>2</td>\n",
       "      <td>I dont believe in body shaming at all\\t\\t\\t\\t\\...</td>\n",
       "    </tr>\n",
       "    <tr>\n",
       "      <td>3</td>\n",
       "      <td>Eve i had faced bodyshaming but I don't care n...</td>\n",
       "    </tr>\n",
       "    <tr>\n",
       "      <td>4</td>\n",
       "      <td>Same i was under wait till my school days and ...</td>\n",
       "    </tr>\n",
       "  </tbody>\n",
       "</table>\n",
       "</div>"
      ],
      "text/plain": [
       "                                             Comment\n",
       "0  OMG i never Belive that i will be able to loss...\n",
       "1  @plumbodylovin great giveaway lol... I was ski...\n",
       "2  I dont believe in body shaming at all\\t\\t\\t\\t\\...\n",
       "3  Eve i had faced bodyshaming but I don't care n...\n",
       "4  Same i was under wait till my school days and ..."
      ]
     },
     "execution_count": 11,
     "metadata": {},
     "output_type": "execute_result"
    }
   ],
   "source": [
    "comment.head()"
   ]
  },
  {
   "cell_type": "code",
   "execution_count": 12,
   "metadata": {},
   "outputs": [],
   "source": [
    "comparative=pd.read_csv('C:\\\\Users\\\\lenovo\\\\Downloads\\\\Assignment for ML engineer - Comparitive analysis.csv')"
   ]
  },
  {
   "cell_type": "code",
   "execution_count": 13,
   "metadata": {},
   "outputs": [
    {
     "data": {
      "text/html": [
       "<div>\n",
       "<style scoped>\n",
       "    .dataframe tbody tr th:only-of-type {\n",
       "        vertical-align: middle;\n",
       "    }\n",
       "\n",
       "    .dataframe tbody tr th {\n",
       "        vertical-align: top;\n",
       "    }\n",
       "\n",
       "    .dataframe thead th {\n",
       "        text-align: right;\n",
       "    }\n",
       "</style>\n",
       "<table border=\"1\" class=\"dataframe\">\n",
       "  <thead>\n",
       "    <tr style=\"text-align: right;\">\n",
       "      <th></th>\n",
       "      <th>user id</th>\n",
       "      <th>Followers</th>\n",
       "      <th>Last updated</th>\n",
       "      <th>media</th>\n",
       "      <th>engagement</th>\n",
       "      <th>Media frequency</th>\n",
       "    </tr>\n",
       "  </thead>\n",
       "  <tbody>\n",
       "    <tr>\n",
       "      <td>0</td>\n",
       "      <td>1894</td>\n",
       "      <td>24529</td>\n",
       "      <td>2019-08-14 2:51:11</td>\n",
       "      <td>736</td>\n",
       "      <td>5</td>\n",
       "      <td>NaN</td>\n",
       "    </tr>\n",
       "    <tr>\n",
       "      <td>1</td>\n",
       "      <td>1894</td>\n",
       "      <td>24541</td>\n",
       "      <td>2019-07-30 20:11:46</td>\n",
       "      <td>734</td>\n",
       "      <td>3</td>\n",
       "      <td>NaN</td>\n",
       "    </tr>\n",
       "    <tr>\n",
       "      <td>2</td>\n",
       "      <td>1894</td>\n",
       "      <td>24531</td>\n",
       "      <td>2019-08-01 13:47:35</td>\n",
       "      <td>734</td>\n",
       "      <td>3</td>\n",
       "      <td>NaN</td>\n",
       "    </tr>\n",
       "    <tr>\n",
       "      <td>3</td>\n",
       "      <td>1894</td>\n",
       "      <td>24534</td>\n",
       "      <td>2019-08-06 13:12:17</td>\n",
       "      <td>735</td>\n",
       "      <td>4</td>\n",
       "      <td>NaN</td>\n",
       "    </tr>\n",
       "    <tr>\n",
       "      <td>4</td>\n",
       "      <td>1894</td>\n",
       "      <td>24543</td>\n",
       "      <td>2019-08-08 12:54:30</td>\n",
       "      <td>735</td>\n",
       "      <td>4</td>\n",
       "      <td>NaN</td>\n",
       "    </tr>\n",
       "  </tbody>\n",
       "</table>\n",
       "</div>"
      ],
      "text/plain": [
       "   user id  Followers         Last updated  media  engagement  Media frequency\n",
       "0     1894      24529   2019-08-14 2:51:11    736           5              NaN\n",
       "1     1894      24541  2019-07-30 20:11:46    734           3              NaN\n",
       "2     1894      24531  2019-08-01 13:47:35    734           3              NaN\n",
       "3     1894      24534  2019-08-06 13:12:17    735           4              NaN\n",
       "4     1894      24543  2019-08-08 12:54:30    735           4              NaN"
      ]
     },
     "execution_count": 13,
     "metadata": {},
     "output_type": "execute_result"
    }
   ],
   "source": [
    "comparative.head()"
   ]
  },
  {
   "cell_type": "code",
   "execution_count": 14,
   "metadata": {},
   "outputs": [
    {
     "data": {
      "text/plain": [
       "Statement    0\n",
       "Keywords     2\n",
       "dtype: int64"
      ]
     },
     "execution_count": 14,
     "metadata": {},
     "output_type": "execute_result"
    }
   ],
   "source": [
    "category.isnull().sum()"
   ]
  },
  {
   "cell_type": "code",
   "execution_count": 15,
   "metadata": {},
   "outputs": [
    {
     "name": "stdout",
     "output_type": "stream",
     "text": [
      "<class 'pandas.core.frame.DataFrame'>\n",
      "RangeIndex: 103 entries, 0 to 102\n",
      "Data columns (total 2 columns):\n",
      "Statement    103 non-null object\n",
      "Keywords     101 non-null object\n",
      "dtypes: object(2)\n",
      "memory usage: 1.7+ KB\n"
     ]
    }
   ],
   "source": [
    "category.info()"
   ]
  },
  {
   "cell_type": "code",
   "execution_count": 16,
   "metadata": {},
   "outputs": [
    {
     "data": {
      "text/plain": [
       "0      :dizzy::sunflower::herb: You might not see it ...\n",
       "1      Yes You heard it right... You can have paratha...\n",
       "2      Those were the days.... No Corona No masks.......\n",
       "3      Agree??It happens to me every week... What abo...\n",
       "4      :white_medium_star::upside-down_face::white_me...\n",
       "                             ...                        \n",
       "98     Muharram, 2019, New Delhi..#spi_silhouettes .....\n",
       "99      , 2019...IG:- @travelwithdanish #travelwithda...\n",
       "100    Peaceful & Solitude- The Golden Hour....@trave...\n",
       "101    Welcome Ganesha :smiling_face_with_heart-eyes:...\n",
       "102    Happy World Photography Day :victory_hand::red...\n",
       "Name: Statement, Length: 103, dtype: object"
      ]
     },
     "execution_count": 16,
     "metadata": {},
     "output_type": "execute_result"
    }
   ],
   "source": [
    "category['Statement']"
   ]
  },
  {
   "cell_type": "code",
   "execution_count": 17,
   "metadata": {},
   "outputs": [],
   "source": []
  },
  {
   "cell_type": "code",
   "execution_count": 31,
   "metadata": {},
   "outputs": [
    {
     "data": {
      "text/plain": [
       "user id              0\n",
       "Followers            0\n",
       "Last updated         0\n",
       "media                0\n",
       "engagement           0\n",
       "Media frequency    217\n",
       "dtype: int64"
      ]
     },
     "execution_count": 31,
     "metadata": {},
     "output_type": "execute_result"
    }
   ],
   "source": [
    "comparative.isnull().sum()"
   ]
  },
  {
   "cell_type": "code",
   "execution_count": 32,
   "metadata": {},
   "outputs": [
    {
     "name": "stdout",
     "output_type": "stream",
     "text": [
      "<class 'pandas.core.frame.DataFrame'>\n",
      "RangeIndex: 217 entries, 0 to 216\n",
      "Data columns (total 6 columns):\n",
      "user id            217 non-null int64\n",
      "Followers          217 non-null int64\n",
      "Last updated       217 non-null object\n",
      "media              217 non-null int64\n",
      "engagement         217 non-null int64\n",
      "Media frequency    0 non-null float64\n",
      "dtypes: float64(1), int64(4), object(1)\n",
      "memory usage: 10.3+ KB\n"
     ]
    }
   ],
   "source": [
    "comparative.info()"
   ]
  },
  {
   "cell_type": "code",
   "execution_count": 34,
   "metadata": {},
   "outputs": [
    {
     "data": {
      "text/plain": [
       "user id              4\n",
       "Followers          131\n",
       "Last updated       217\n",
       "media               78\n",
       "engagement          25\n",
       "Media frequency      0\n",
       "dtype: int64"
      ]
     },
     "execution_count": 34,
     "metadata": {},
     "output_type": "execute_result"
    }
   ],
   "source": [
    "comparative.nunique()"
   ]
  },
  {
   "cell_type": "markdown",
   "metadata": {},
   "source": [
    "# Most active User "
   ]
  },
  {
   "cell_type": "code",
   "execution_count": 56,
   "metadata": {},
   "outputs": [
    {
     "data": {
      "text/plain": [
       "<matplotlib.axes._subplots.AxesSubplot at 0x21df5b3a488>"
      ]
     },
     "execution_count": 56,
     "metadata": {},
     "output_type": "execute_result"
    },
    {
     "data": {
      "image/png": "[encoded data removed]",
      "text/plain": [
       "<Figure size 432x288 with 1 Axes>"
      ]
     },
     "metadata": {
      "needs_background": "light"
     },
     "output_type": "display_data"
    }
   ],
   "source": [
    "comparative['user id'].value_counts().reset_index().rename(columns={'index':'user id','user id':'count'}).sort_values(by='count',ascending=False).plot(kind='barh',x='user id',y='count')"
   ]
  },
  {
   "cell_type": "code",
   "execution_count": 65,
   "metadata": {},
   "outputs": [],
   "source": [
    "#user id 10263 is the most active person among all"
   ]
  },
  {
   "cell_type": "markdown",
   "metadata": {},
   "source": [
    "# User id with most media"
   ]
  },
  {
   "cell_type": "code",
   "execution_count": 50,
   "metadata": {},
   "outputs": [
    {
     "data": {
      "text/plain": [
       "<matplotlib.axes._subplots.AxesSubplot at 0x21df4ef8ac8>"
      ]
     },
     "execution_count": 50,
     "metadata": {},
     "output_type": "execute_result"
    },
    {
     "data": {
      "image/png": "[encoded data removed]",
      "text/plain": [
       "<Figure size 432x288 with 1 Axes>"
      ]
     },
     "metadata": {
      "needs_background": "light"
     },
     "output_type": "display_data"
    }
   ],
   "source": [
    "comparative.groupby('user id')['media'].mean().reset_index().plot(kind='barh',x='user id', y='media')"
   ]
  },
  {
   "cell_type": "code",
   "execution_count": 66,
   "metadata": {},
   "outputs": [],
   "source": [
    "#user id 11490 , 1894 has most media"
   ]
  },
  {
   "cell_type": "code",
   "execution_count": 49,
   "metadata": {},
   "outputs": [
    {
     "data": {
      "text/plain": [
       "array([ 1894,  4135, 10263, 11490], dtype=int64)"
      ]
     },
     "execution_count": 49,
     "metadata": {},
     "output_type": "execute_result"
    }
   ],
   "source": [
    "comparative['user id'].unique()"
   ]
  },
  {
   "cell_type": "code",
   "execution_count": 60,
   "metadata": {},
   "outputs": [
    {
     "data": {
      "text/html": [
       "<div>\n",
       "<style scoped>\n",
       "    .dataframe tbody tr th:only-of-type {\n",
       "        vertical-align: middle;\n",
       "    }\n",
       "\n",
       "    .dataframe tbody tr th {\n",
       "        vertical-align: top;\n",
       "    }\n",
       "\n",
       "    .dataframe thead th {\n",
       "        text-align: right;\n",
       "    }\n",
       "</style>\n",
       "<table border=\"1\" class=\"dataframe\">\n",
       "  <thead>\n",
       "    <tr style=\"text-align: right;\">\n",
       "      <th></th>\n",
       "      <th>user id</th>\n",
       "      <th>engagement</th>\n",
       "    </tr>\n",
       "  </thead>\n",
       "  <tbody>\n",
       "    <tr>\n",
       "      <td>0</td>\n",
       "      <td>1894</td>\n",
       "      <td>13.700000</td>\n",
       "    </tr>\n",
       "    <tr>\n",
       "      <td>1</td>\n",
       "      <td>4135</td>\n",
       "      <td>5.909091</td>\n",
       "    </tr>\n",
       "    <tr>\n",
       "      <td>2</td>\n",
       "      <td>10263</td>\n",
       "      <td>27.551724</td>\n",
       "    </tr>\n",
       "    <tr>\n",
       "      <td>3</td>\n",
       "      <td>11490</td>\n",
       "      <td>3.434783</td>\n",
       "    </tr>\n",
       "  </tbody>\n",
       "</table>\n",
       "</div>"
      ],
      "text/plain": [
       "   user id  engagement\n",
       "0     1894   13.700000\n",
       "1     4135    5.909091\n",
       "2    10263   27.551724\n",
       "3    11490    3.434783"
      ]
     },
     "execution_count": 60,
     "metadata": {},
     "output_type": "execute_result"
    }
   ],
   "source": [
    "comparative.groupby('user id')['engagement'].mean().reset_index()"
   ]
  },
  {
   "cell_type": "markdown",
   "metadata": {},
   "source": [
    "# User id with most Engagement"
   ]
  },
  {
   "cell_type": "code",
   "execution_count": 61,
   "metadata": {},
   "outputs": [
    {
     "data": {
      "text/plain": [
       "<matplotlib.axes._subplots.AxesSubplot at 0x21df6bc25c8>"
      ]
     },
     "execution_count": 61,
     "metadata": {},
     "output_type": "execute_result"
    },
    {
     "data": {
      "image/png": "[encoded data removed]",
      "text/plain": [
       "<Figure size 432x288 with 1 Axes>"
      ]
     },
     "metadata": {
      "needs_background": "light"
     },
     "output_type": "display_data"
    }
   ],
   "source": [
    "comparative.groupby('user id')['engagement'].mean().reset_index().plot(kind='barh',x='user id', y='engagement')"
   ]
  },
  {
   "cell_type": "code",
   "execution_count": 67,
   "metadata": {},
   "outputs": [],
   "source": [
    "#user id 10263 has the highest engagement"
   ]
  },
  {
   "cell_type": "code",
   "execution_count": null,
   "metadata": {},
   "outputs": [],
   "source": [
    "# type(comparative['Last updated'][0])"
   ]
  },
  {
   "cell_type": "markdown",
   "metadata": {},
   "source": [
    "# Creating more features from date feature"
   ]
  },
  {
   "cell_type": "code",
   "execution_count": 64,
   "metadata": {},
   "outputs": [],
   "source": [
    "comparative['Last updated']=pd.to_datetime(comparative['Last updated'])"
   ]
  },
  {
   "cell_type": "code",
   "execution_count": 78,
   "metadata": {},
   "outputs": [],
   "source": [
    "comparative['date']=[i.date() for i in comparative['Last updated']]"
   ]
  },
  {
   "cell_type": "code",
   "execution_count": 80,
   "metadata": {},
   "outputs": [],
   "source": [
    "comparative['dayofweek']=[i.dayofweek for i in comparative['Last updated']]"
   ]
  },
  {
   "cell_type": "code",
   "execution_count": 87,
   "metadata": {},
   "outputs": [],
   "source": [
    "comparative['isweekend']=np.where(comparative['dayofweek'].isin([5,6]), 1, 0)"
   ]
  },
  {
   "cell_type": "code",
   "execution_count": 125,
   "metadata": {},
   "outputs": [
    {
     "data": {
      "text/html": [
       "<div>\n",
       "<style scoped>\n",
       "    .dataframe tbody tr th:only-of-type {\n",
       "        vertical-align: middle;\n",
       "    }\n",
       "\n",
       "    .dataframe tbody tr th {\n",
       "        vertical-align: top;\n",
       "    }\n",
       "\n",
       "    .dataframe thead th {\n",
       "        text-align: right;\n",
       "    }\n",
       "</style>\n",
       "<table border=\"1\" class=\"dataframe\">\n",
       "  <thead>\n",
       "    <tr style=\"text-align: right;\">\n",
       "      <th></th>\n",
       "      <th>user id</th>\n",
       "      <th>Followers</th>\n",
       "      <th>Last updated</th>\n",
       "      <th>media</th>\n",
       "      <th>engagement</th>\n",
       "      <th>Media frequency</th>\n",
       "      <th>date</th>\n",
       "      <th>dayofweek</th>\n",
       "      <th>isweekend</th>\n",
       "      <th>day</th>\n",
       "      <th>hour</th>\n",
       "      <th>stageofday</th>\n",
       "      <th>year</th>\n",
       "    </tr>\n",
       "  </thead>\n",
       "  <tbody>\n",
       "    <tr>\n",
       "      <td>0</td>\n",
       "      <td>1894</td>\n",
       "      <td>24529</td>\n",
       "      <td>2019-08-14 02:51:11</td>\n",
       "      <td>736</td>\n",
       "      <td>5</td>\n",
       "      <td>NaN</td>\n",
       "      <td>2019-08-14</td>\n",
       "      <td>2</td>\n",
       "      <td>0</td>\n",
       "      <td>14</td>\n",
       "      <td>2</td>\n",
       "      <td>post midnight</td>\n",
       "      <td>2019</td>\n",
       "    </tr>\n",
       "    <tr>\n",
       "      <td>1</td>\n",
       "      <td>1894</td>\n",
       "      <td>24541</td>\n",
       "      <td>2019-07-30 20:11:46</td>\n",
       "      <td>734</td>\n",
       "      <td>3</td>\n",
       "      <td>NaN</td>\n",
       "      <td>2019-07-30</td>\n",
       "      <td>1</td>\n",
       "      <td>0</td>\n",
       "      <td>30</td>\n",
       "      <td>20</td>\n",
       "      <td>afer evening before midnight</td>\n",
       "      <td>2019</td>\n",
       "    </tr>\n",
       "    <tr>\n",
       "      <td>2</td>\n",
       "      <td>1894</td>\n",
       "      <td>24531</td>\n",
       "      <td>2019-08-01 13:47:35</td>\n",
       "      <td>734</td>\n",
       "      <td>3</td>\n",
       "      <td>NaN</td>\n",
       "      <td>2019-08-01</td>\n",
       "      <td>3</td>\n",
       "      <td>0</td>\n",
       "      <td>1</td>\n",
       "      <td>13</td>\n",
       "      <td>before evening after noon</td>\n",
       "      <td>2019</td>\n",
       "    </tr>\n",
       "    <tr>\n",
       "      <td>3</td>\n",
       "      <td>1894</td>\n",
       "      <td>24534</td>\n",
       "      <td>2019-08-06 13:12:17</td>\n",
       "      <td>735</td>\n",
       "      <td>4</td>\n",
       "      <td>NaN</td>\n",
       "      <td>2019-08-06</td>\n",
       "      <td>1</td>\n",
       "      <td>0</td>\n",
       "      <td>6</td>\n",
       "      <td>13</td>\n",
       "      <td>before evening after noon</td>\n",
       "      <td>2019</td>\n",
       "    </tr>\n",
       "    <tr>\n",
       "      <td>4</td>\n",
       "      <td>1894</td>\n",
       "      <td>24543</td>\n",
       "      <td>2019-08-08 12:54:30</td>\n",
       "      <td>735</td>\n",
       "      <td>4</td>\n",
       "      <td>NaN</td>\n",
       "      <td>2019-08-08</td>\n",
       "      <td>3</td>\n",
       "      <td>0</td>\n",
       "      <td>8</td>\n",
       "      <td>12</td>\n",
       "      <td>before evening after noon</td>\n",
       "      <td>2019</td>\n",
       "    </tr>\n",
       "  </tbody>\n",
       "</table>\n",
       "</div>"
      ],
      "text/plain": [
       "   user id  Followers        Last updated  media  engagement  Media frequency  \\\n",
       "0     1894      24529 2019-08-14 02:51:11    736           5              NaN   \n",
       "1     1894      24541 2019-07-30 20:11:46    734           3              NaN   \n",
       "2     1894      24531 2019-08-01 13:47:35    734           3              NaN   \n",
       "3     1894      24534 2019-08-06 13:12:17    735           4              NaN   \n",
       "4     1894      24543 2019-08-08 12:54:30    735           4              NaN   \n",
       "\n",
       "         date  dayofweek  isweekend  day  hour                    stageofday  \\\n",
       "0  2019-08-14          2          0   14     2                 post midnight   \n",
       "1  2019-07-30          1          0   30    20  afer evening before midnight   \n",
       "2  2019-08-01          3          0    1    13     before evening after noon   \n",
       "3  2019-08-06          1          0    6    13     before evening after noon   \n",
       "4  2019-08-08          3          0    8    12     before evening after noon   \n",
       "\n",
       "   year  \n",
       "0  2019  \n",
       "1  2019  \n",
       "2  2019  \n",
       "3  2019  \n",
       "4  2019  "
      ]
     },
     "execution_count": 125,
     "metadata": {},
     "output_type": "execute_result"
    }
   ],
   "source": [
    "comparative.head()"
   ]
  },
  {
   "cell_type": "code",
   "execution_count": 91,
   "metadata": {},
   "outputs": [],
   "source": [
    "comparative['day']=comparative['Last updated'].dt.day"
   ]
  },
  {
   "cell_type": "code",
   "execution_count": 93,
   "metadata": {},
   "outputs": [],
   "source": [
    "comparative['hour']=comparative['Last updated'].dt.hour"
   ]
  },
  {
   "cell_type": "code",
   "execution_count": 123,
   "metadata": {},
   "outputs": [],
   "source": [
    "comparative['stageofday']=comparative['hour'].apply(foo)"
   ]
  },
  {
   "cell_type": "code",
   "execution_count": 124,
   "metadata": {},
   "outputs": [],
   "source": [
    "comparative['year']=comparative['Last updated'].dt.year"
   ]
  },
  {
   "cell_type": "markdown",
   "metadata": {},
   "source": [
    "# Different stages of day"
   ]
  },
  {
   "cell_type": "code",
   "execution_count": 96,
   "metadata": {},
   "outputs": [],
   "source": [
    "def foo(x):\n",
    "    if x in range(0,7):\n",
    "        return 'post midnight'\n",
    "    elif x in range(7,12):\n",
    "        return ' morning before noon'\n",
    "    elif x in range(12,19):\n",
    "        return 'before evening after noon'\n",
    "    elif x in range(19,25):\n",
    "        return 'afer evening before midnight'\n",
    "    else:\n",
    "        return x"
   ]
  },
  {
   "cell_type": "markdown",
   "metadata": {},
   "source": [
    "# time of day when people are most active"
   ]
  },
  {
   "cell_type": "code",
   "execution_count": 101,
   "metadata": {},
   "outputs": [
    {
     "data": {
      "text/plain": [
       "stageofday\n",
       " morning before noon            23.032787\n",
       "afer evening before midnight    10.421053\n",
       "before evening after noon       15.789474\n",
       "post midnight                    9.180328\n",
       "Name: engagement, dtype: float64"
      ]
     },
     "execution_count": 101,
     "metadata": {},
     "output_type": "execute_result"
    }
   ],
   "source": [
    "comparative.groupby('stageofday').engagement.mean()"
   ]
  },
  {
   "cell_type": "code",
   "execution_count": 103,
   "metadata": {},
   "outputs": [
    {
     "data": {
      "text/plain": [
       "<matplotlib.axes._subplots.AxesSubplot at 0x21df6d58bc8>"
      ]
     },
     "execution_count": 103,
     "metadata": {},
     "output_type": "execute_result"
    },
    {
     "data": {
      "image/png": "[encoded data removed]",
      "text/plain": [
       "<Figure size 432x288 with 1 Axes>"
      ]
     },
     "metadata": {
      "needs_background": "light"
     },
     "output_type": "display_data"
    }
   ],
   "source": [
    "comparative.groupby('stageofday').engagement.mean().reset_index().plot(kind='barh',x='stageofday',y='engagement')"
   ]
  },
  {
   "cell_type": "code",
   "execution_count": 68,
   "metadata": {},
   "outputs": [],
   "source": [
    "#users are most active in the morning and in mid day"
   ]
  },
  {
   "cell_type": "markdown",
   "metadata": {},
   "source": [
    "# Day of week when users are most active"
   ]
  },
  {
   "cell_type": "code",
   "execution_count": 104,
   "metadata": {},
   "outputs": [
    {
     "data": {
      "text/plain": [
       "<matplotlib.axes._subplots.AxesSubplot at 0x21df6dabfc8>"
      ]
     },
     "execution_count": 104,
     "metadata": {},
     "output_type": "execute_result"
    },
    {
     "data": {
      "image/png": "[encoded data removed]",
      "text/plain": [
       "<Figure size 432x288 with 1 Axes>"
      ]
     },
     "metadata": {
      "needs_background": "light"
     },
     "output_type": "display_data"
    }
   ],
   "source": [
    "comparative.groupby('dayofweek').engagement.mean().reset_index().plot(kind='barh',x='dayofweek',y='engagement')"
   ]
  },
  {
   "cell_type": "code",
   "execution_count": 69,
   "metadata": {},
   "outputs": [],
   "source": [
    "#users are equally active everyday"
   ]
  },
  {
   "cell_type": "markdown",
   "metadata": {},
   "source": [
    "# users engagement on weekends"
   ]
  },
  {
   "cell_type": "code",
   "execution_count": 105,
   "metadata": {},
   "outputs": [
    {
     "data": {
      "text/plain": [
       "<matplotlib.axes._subplots.AxesSubplot at 0x21df4ec61c8>"
      ]
     },
     "execution_count": 105,
     "metadata": {},
     "output_type": "execute_result"
    },
    {
     "data": {
      "image/png": "[encoded data removed]",
      "text/plain": [
       "<Figure size 432x288 with 1 Axes>"
      ]
     },
     "metadata": {
      "needs_background": "light"
     },
     "output_type": "display_data"
    }
   ],
   "source": [
    "comparative.groupby('isweekend').engagement.mean().reset_index().plot(kind='barh',x='isweekend',y='engagement')"
   ]
  },
  {
   "cell_type": "markdown",
   "metadata": {},
   "source": [
    "# Followers of every user id , change in no. of followers everyday"
   ]
  },
  {
   "cell_type": "code",
   "execution_count": 108,
   "metadata": {},
   "outputs": [],
   "source": [
    "followers={i:comparative[comparative['user id']==i]['Followers']   for i in comparative['user id'].unique()}"
   ]
  },
  {
   "cell_type": "markdown",
   "metadata": {},
   "source": [
    "# in a week change in followers of user id 1894"
   ]
  },
  {
   "cell_type": "code",
   "execution_count": 119,
   "metadata": {},
   "outputs": [
    {
     "data": {
      "text/plain": [
       "[<matplotlib.lines.Line2D at 0x21df70c2c08>]"
      ]
     },
     "execution_count": 119,
     "metadata": {},
     "output_type": "execute_result"
    },
    {
     "data": {
      "image/png": "[encoded data removed]",
      "text/plain": [
       "<Figure size 432x288 with 1 Axes>"
      ]
     },
     "metadata": {
      "needs_background": "light"
     },
     "output_type": "display_data"
    }
   ],
   "source": [
    "plt.plot(comparative[comparative['user id']==1894]['dayofweek'], followers[1894])"
   ]
  },
  {
   "cell_type": "code",
   "execution_count": 128,
   "metadata": {},
   "outputs": [
    {
     "data": {
      "text/plain": [
       "array([ 1894,  4135, 10263, 11490], dtype=int64)"
      ]
     },
     "execution_count": 128,
     "metadata": {},
     "output_type": "execute_result"
    }
   ],
   "source": [
    "comparative['user id'].unique()"
   ]
  },
  {
   "cell_type": "code",
   "execution_count": 129,
   "metadata": {},
   "outputs": [
    {
     "data": {
      "text/plain": [
       "array([2019, 2020], dtype=int64)"
      ]
     },
     "execution_count": 129,
     "metadata": {},
     "output_type": "execute_result"
    }
   ],
   "source": [
    "comparative['year'].unique()"
   ]
  },
  {
   "cell_type": "markdown",
   "metadata": {},
   "source": [
    "# Change in followers in a year of user id 4135"
   ]
  },
  {
   "cell_type": "code",
   "execution_count": 127,
   "metadata": {},
   "outputs": [
    {
     "data": {
      "text/plain": [
       "[<matplotlib.lines.Line2D at 0x21df72a0588>]"
      ]
     },
     "execution_count": 127,
     "metadata": {},
     "output_type": "execute_result"
    },
    {
     "data": {
      "image/png": "[encoded data removed]",
      "text/plain": [
       "<Figure size 432x288 with 1 Axes>"
      ]
     },
     "metadata": {
      "needs_background": "light"
     },
     "output_type": "display_data"
    }
   ],
   "source": [
    "plt.plot(comparative[comparative['user id']==4135]['year'], followers[4135])"
   ]
  },
  {
   "cell_type": "markdown",
   "metadata": {},
   "source": [
    "# Change of followers in a month"
   ]
  },
  {
   "cell_type": "code",
   "execution_count": 122,
   "metadata": {},
   "outputs": [
    {
     "data": {
      "text/plain": [
       "[<matplotlib.lines.Line2D at 0x21df71db908>]"
      ]
     },
     "execution_count": 122,
     "metadata": {},
     "output_type": "execute_result"
    },
    {
     "data": {
      "image/png": "[encoded data removed]",
      "text/plain": [
       "<Figure size 432x288 with 1 Axes>"
      ]
     },
     "metadata": {
      "needs_background": "light"
     },
     "output_type": "display_data"
    }
   ],
   "source": [
    "plt.plot(comparative[comparative['user id']==1894]['day'], followers[1894])"
   ]
  },
  {
   "cell_type": "code",
   "execution_count": 130,
   "metadata": {},
   "outputs": [
    {
     "data": {
      "text/html": [
       "<div>\n",
       "<style scoped>\n",
       "    .dataframe tbody tr th:only-of-type {\n",
       "        vertical-align: middle;\n",
       "    }\n",
       "\n",
       "    .dataframe tbody tr th {\n",
       "        vertical-align: top;\n",
       "    }\n",
       "\n",
       "    .dataframe thead th {\n",
       "        text-align: right;\n",
       "    }\n",
       "</style>\n",
       "<table border=\"1\" class=\"dataframe\">\n",
       "  <thead>\n",
       "    <tr style=\"text-align: right;\">\n",
       "      <th></th>\n",
       "      <th>Statement</th>\n",
       "      <th>Keywords</th>\n",
       "    </tr>\n",
       "  </thead>\n",
       "  <tbody>\n",
       "    <tr>\n",
       "      <td>0</td>\n",
       "      <td>:dizzy::sunflower::herb: You might not see it ...</td>\n",
       "      <td>amazondotin amazonfashion amazoninfluencer bek...</td>\n",
       "    </tr>\n",
       "    <tr>\n",
       "      <td>1</td>\n",
       "      <td>Yes You heard it right... You can have paratha...</td>\n",
       "      <td>awifesperspective</td>\n",
       "    </tr>\n",
       "    <tr>\n",
       "      <td>2</td>\n",
       "      <td>Those were the days.... No Corona No masks.......</td>\n",
       "      <td>awifesperspective</td>\n",
       "    </tr>\n",
       "    <tr>\n",
       "      <td>3</td>\n",
       "      <td>Agree??It happens to me every week... What abo...</td>\n",
       "      <td>awifesperspective</td>\n",
       "    </tr>\n",
       "    <tr>\n",
       "      <td>4</td>\n",
       "      <td>:white_medium_star::upside-down_face::white_me...</td>\n",
       "      <td>bowtieandlipsticks covid19 gocoronago healthti...</td>\n",
       "    </tr>\n",
       "  </tbody>\n",
       "</table>\n",
       "</div>"
      ],
      "text/plain": [
       "                                           Statement  \\\n",
       "0  :dizzy::sunflower::herb: You might not see it ...   \n",
       "1  Yes You heard it right... You can have paratha...   \n",
       "2  Those were the days.... No Corona No masks.......   \n",
       "3  Agree??It happens to me every week... What abo...   \n",
       "4  :white_medium_star::upside-down_face::white_me...   \n",
       "\n",
       "                                            Keywords  \n",
       "0  amazondotin amazonfashion amazoninfluencer bek...  \n",
       "1                                  awifesperspective  \n",
       "2                                  awifesperspective  \n",
       "3                                  awifesperspective  \n",
       "4  bowtieandlipsticks covid19 gocoronago healthti...  "
      ]
     },
     "execution_count": 130,
     "metadata": {},
     "output_type": "execute_result"
    }
   ],
   "source": [
    "category.head()"
   ]
  },
  {
   "cell_type": "code",
   "execution_count": 132,
   "metadata": {},
   "outputs": [
    {
     "data": {
      "text/plain": [
       "96"
      ]
     },
     "execution_count": 132,
     "metadata": {},
     "output_type": "execute_result"
    }
   ],
   "source": [
    "category['Keywords'].nunique()"
   ]
  },
  {
   "cell_type": "code",
   "execution_count": 133,
   "metadata": {},
   "outputs": [
    {
     "name": "stdout",
     "output_type": "stream",
     "text": [
      "<class 'pandas.core.frame.DataFrame'>\n",
      "RangeIndex: 103 entries, 0 to 102\n",
      "Data columns (total 2 columns):\n",
      "Statement    103 non-null object\n",
      "Keywords     101 non-null object\n",
      "dtypes: object(2)\n",
      "memory usage: 1.7+ KB\n"
     ]
    }
   ],
   "source": [
    "category.info()"
   ]
  },
  {
   "cell_type": "code",
   "execution_count": 135,
   "metadata": {},
   "outputs": [
    {
     "data": {
      "text/plain": [
       "Statement    0\n",
       "Keywords     2\n",
       "dtype: int64"
      ]
     },
     "execution_count": 135,
     "metadata": {},
     "output_type": "execute_result"
    }
   ],
   "source": [
    "category.isnull().sum()"
   ]
  },
  {
   "cell_type": "code",
   "execution_count": 18,
   "metadata": {},
   "outputs": [],
   "source": [
    "kc=PorterStemmer()"
   ]
  },
  {
   "cell_type": "markdown",
   "metadata": {},
   "source": [
    "# Removing stopwords and Stemming"
   ]
  },
  {
   "cell_type": "code",
   "execution_count": 19,
   "metadata": {},
   "outputs": [],
   "source": [
    "corpus=[]\n",
    "for i in range(len(category['Statement'])):\n",
    "    helo=re.sub('[^a-zA-Z]',' ',category['Statement'][i])\n",
    "    helo=helo.lower()\n",
    "    helo=helo.split()\n",
    "    helo=[kc.stem(k) for k in helo if k not in set(stopwords.words('english'))]\n",
    "    helo=' '.join(helo)\n",
    "    corpus.append(helo)\n",
    "    \n",
    "    \n",
    "    "
   ]
  },
  {
   "cell_type": "code",
   "execution_count": 20,
   "metadata": {},
   "outputs": [
    {
     "data": {
      "text/plain": [
       "['dizzi sunflow herb might see gonna fuck smile face sunglass founditonamazon amazonfashion amazondotin amazoninfluenc follow abdul zubarti camera follow abdul zubarti camera dont forget doubl tap like comment thought thought balloon share friend virgo follow abdul zubarti red heart amaz post white heavi check mark rainbow trendingfashion fashionphotoshoot explorepagereadi indianinfluenc fashionmodel bekindnessgod iblradi lifehotoaisihi',\n",
       " 'ye heard right paratha sandwich green heart skip fri food though bodi digest power strongest time awifesperspect',\n",
       " 'day corona mask add tone favourit color dress lot fun awifesperspect',\n",
       " 'agre happen everi week awifesperspect photooftheday call funni style flower design yellow red heart happi beauti textpost beauti makeup brokenheart picoftheday flower pretti black handmad hair pink funnytext photographi',\n",
       " 'white medium star upsid face white medium star dizzi love letter tip take care kid season changekeep babi safe season chang import that tend get viral season chang biggest nightmar alway howev time cautiou pandem situat time safeguard prevent alway better cure tip keep child hydrat help regul bodi temperatur water soup best suggest juic ye infant month mother milk enough dont give water intak vitamin c fibr import help build immun system act booster bodi fibr help proper function galt vitamin c enrich fruit lemon orang pineappl papaya kiwi also squeez lemon meal dal rice high fibr food lentil',\n",
       " 'want follow home around time social distanc come join commun women empow women downward button join us follow train quick easi here keycap like pictur keycap head ladiesloop follow page must follow instruct extrem follow loop post start gain follow mamasmegaloopteam socialdistanc momlif mamablog washyourhand mamagirl mamalif motherhood hotmessmama fitmama instamama mamablogg letssavetheworld singlemoth motherslov motherdaught shelterinplac stayathom stayhom ladiesloop',\n",
       " 'doubl curli loop smile face halo yellow heart four leaf clover dizzi sparkl bong big time rice lover indiakhaa recip rice turn perfect tri veg biryani per expect reason indiakhaa choic rice poss nuitrient import us benefit xl basmati rice age rice low gi non blend gluten free himalayan sourcedit easili avail amazondotin khaasbasmatiric indiakhaa khasric khaasric basmatiric basmatiricerecip indiakha',\n",
       " 'pencil kal ho na ho rainbow wanderlust backpack travel imisstravel bangalorediari banglaorevib mood indiangirltravel indiangirltravel travellingthroughtheworld exploreindia indiantravel indiantravelblogg indiantravelinfluenc mood indianfashioninfluenc indianfashionblogg oldmemori kalhonaho indianinfluenc mumbaiblogg bangalorestreet l k sbi rgan c artiztfeelsep rainbow',\n",
       " 'good food drool face sweet share friend famili happi homemad cook love provid food soul home serv kind food know stori behind stay connect commitedbird foodi foodforfoodi foodielov healthyfood foodporn foodphotographi homlyfood homelyfood jaipurfoodi jaipurfoodblogg jaipurfoodi rajasthanifood familyfood familyfoodi',\n",
       " 'yesterday mark year blog offici decid chang instagram handl diaper lipstick rememb night want offici announc lot think name knew want write parent motherhood experi journey definit also go balanc find motherhood alway big dream would often make present offic would find time im grate ive reach long long way go im rush also want live moment also want make today slowli work toward dream sparkl mondaymotiv thought never let anyon tell dream big anyon fire p realli excit recent shoot rudi birthday week star struck diaper lipstick lipstick p c david freelanc mua',\n",
       " 'mumma ko bohot baar kehna chaha par keh nahi paayi watch indiawaalimaa sonytvoffici couldnt stop say thankyoumaa show truli encompass emot indiawaalimaa tune everi mon fri pm enjoy even mom sonytvoffici',\n",
       " 'beauti memori cherish aaditva first birthday tri peck chubbi cheek smile cute chubbi cheek felt like cottoni softi want freez moment priceless preciou moment special moment felt etern bond pure bond parent child share softesttouchmo tag mummaslilangel mitzitup nimsstylefil justmommi banchikabhawnani share softesttouchmo softesttouch johnsoncottontouch choosegentl johnsonsbabyindia gotinystep',\n",
       " 'first time tri middl part hair otherwis alway side part guy think suit grow glow glow star mua stylush unisexsalon himaniarora lamprobit blogger makeup mua beauti influenc enthusiast entrepreneur stylist diva browney blush shine potd styleinspir',\n",
       " 'rare deserv treat like one dove od maxfashionindia accessori accessorizeindiaoffici pc mainaurmeracamera edit rishabhh raw mua nottthatbas himaniarora lamprobit blogger indianblogg stylist influenc',\n",
       " 'rainbow doubl curli loop okay doesnt acn clearest skin that crazi acn deal teenag also acn scar pigment quit deep cheek alway shi away bare skin skin problem recent got hold much hype thedermacoindia aha bha product aha bha foam cleanser made glycol salicyl acid help shed dead skin cell help cell turnov fruit aha skin revit made fruit extract help free skin blemish scar receiv product august use sinc see consider amount differ skin hope one day skin shown without filter make nofilt dermaco healdontc acn bemoreactive august tagg lyvdylfi clashdiljitclash acnescar pigment acneposit acn acn',\n",
       " 'radio button kaftan difficult wear check fun video creat let know one look love casual look beach babe magzin editori look wear tropic print kaftan omgeefashionstudio kaftan kaftandress howtowear kaftanpremium kaftanexclus kaftanstyl stylinginspir fashionvideo desiinfluenc bohobraid boholiv boholifestyl boholook stylinginspo fashionwear bohodress boholov bangalorefashionblogg beachshoot beach beachphotoshoot style mumbaifashionblogg delhifashionblogg ipreview via preview app actprotu goodngenuin besafeinsep aajmangalwarhaii seventysept',\n",
       " 'wavi dash work like sinc forev say snack penni super excit obvious munchi bake say whaaaat yaaaa form oishiindia love bundl joy munch ever sinc nonstop monday better mani snack also swipe right arrow check edit pictur snack munchi love healthysnack snack bakedwithlov chip onlinedeliveri bangalorefoodi always oishiindia nammabengaluru bengaluru bengalurufoodi bengaluru diari dogsofbark bangaloreinfluenc bangaloreblogg indianfoodblogg funwithdog mumbaiblogg appleztmzzz ipreview via preview app',\n",
       " 'wow dglitz event thank much featur septemb issu vikaskhannagroup also cover get free copi read well red heart use link get http www dglitzev com featur featur magazineshoot digitalmagazin septembermagazin featurem magazinearticl articl articl magazinefeatur magazinefeatur',\n",
       " 'told doctor im low vitamin b im use supplement zenithnutrit red heart get level back realli soon healthylifesyl healthyip indiahealthcar healthyproduct healthcareindia zenithnutrit beautyindia beautyproduct beautyproduct beautyindia healthtip stayhealthyandfit',\n",
       " 'still photo product video yesterday red heart product chocolit scrubethiglow face wash degre subscreenhyalugel beautyproduct skincareproduct indiaskincar indianskincar facecar dailyskin dailyskincar dailybeauti dailybeautytip beautydaili beautycareproduct',\n",
       " 'smoothi colada skin ya new gel lotion crme lotion launch cruelti free vegan brand plum bodylovin theyr silicon free light weight super hydratin best part theyr greasi theyv launch variant right arrow plum bodylovin tropic tango colada gel lotion meloni light weight hydrat plum right arrow bodylovin drivin cherri smoothi crme lotion cherri lotion hell yeah person favourit tropic tango colada red heart gel lotion perfect skin type crme lotion especi fab dri super dri skin type also smell yum shop beauti today www plumgood com aplumpartnership vocalforloc newlaunch plumbodylovin judgementfre loveeveryinch bodylot bodyposit bath bodi bodycar plumgood opareview opagirl indianinfluenc mumbaiinfluenc indianblogg mumbaiblogg indianlifestyleblogg',\n",
       " 'beach mode desert island smile face sunglass got dollar everi time someon bodi shame us would billionair sparkl plumbodylovin set negat bodi shame load love sass bodi posit vegan judgementfre line fun bath bodi product aim make love everi inch fab bod red heart indian brand launch shower gel bodi lotion bodi mist far product today hawaiian rumba shower gel hawaiian rumba bodi mistshop pick indian brand www plumgood com plumbodylovin plumgood two heart use referr code wy eq referr link get first order tap link bio wink face vocalforloc hugyourfabbod loveeveryinch judgementfre bodylovinsquad plumbodylovin plumgood beach love hyderabad sulphatefre bodycar goodvib',\n",
       " 'beach bae spiral shell beach home rs ya pleas smile face sunglass plumgood plumbodylovin two heart experi bubblin spritzin beach hawaii right home plum hawaiian rumba shower gel bodi mist palm tree get shower gel bodi mist rs smile face heart eye also get free oh natur loofah hurri use referr code wy eq referr link get first order tap link bio wink face bringin beach home today two heart loveeveryinch judgementfre bodylovinsquad plumbodylovin plumgood beach love cherri blossom',\n",
       " 'happi even walk paradis sparkl p doesnt love walk good weather plead face fashion lifestyl ootd outfitoftheday blogger instagram iger photooftheday brooklyn newyork newyorkblogg usa desiinfluenc theglamorousch',\n",
       " 'casual chill like boss hundr point p give major black outfit vibe heavi check mark look breakdown jumpsuit stalkbuylov shoe coach top bottom ripndip shoe coach fashion lifestyl lifestyleblog ootd blackoutfit outfitinspir photooftheday coupl coupleshot blogger instagram stylist newyork brooklyn outfitinspo theglamorousch nyc usa',\n",
       " 'came across amaz video greatlearningofficiala work mother blogger keep learn achiev goal dream start learn today jo seekhta hai wahi aag badhta hai powerahead',\n",
       " 'superrr excit takeov middayindia th sept pm anddd guess discuss journey mominthebay well momlif everyth parent im realli thank bore time platform guy reason someth excit look forward sooo often smile face heart purpl heart thank guy smile face heart smile face heart smile face heart gratitud live midday also total love new hair look pic face tear joy face tear joy face tear joy knowwhatimean',\n",
       " 'motherhood love begin end think guy smile face smile eye karamheepujahai',\n",
       " 'softesttouch cottontouch hey mommi rememb magic moment first got touch babi soft skin wasnt softesttouch ever experienc feel cant describ word thing touch best softest touch far babi smile face heart mom share softesttouch experi tell us feel touch babi soft skin softesttouch choosegentl cottontouch',\n",
       " 'hello friend recent tri manna multigrain new health drink market impress full nutrit palat tast littl sugar fulfil requir one sentenc say truli indian health drink made ancient indian grain real nutrit smile face smile eye manna go grain contain grain good millet like bajra ragi jowar cereal puls like bengal gram barley wheat make one uniqu drink market today best instant drink scoop sip stir add two heap teaspoon warm milk serv yummi choclati flavour also contain immun builder like zinc vitamin c e copper one glass provid daili requir child wait tri tell comment section kind drink u like thumb mannafoodsindia mannafoodsoffici gurgaonmomsavail amazo',\n",
       " 'everyth new born babi beauti smile smell import skin thank johnsonsbabyindia remind tag sumitakapoor racdevradar new momintown mumzcub rais munchkin share softest touch moment softesttouch choosegentl cottontouch',\n",
       " 'flower proud assert ray beauti valu util world hibiscu rose throwback selectcitywalk scw saket fiorella fiorellaindia loveforpos ootd motd selfmus poser instaclick instalov instap instashot posingisfun bloggersofinstagram bloggerstyl blogger goodvib instahappi instavib picoftheday lookoftheday ig igdaili',\n",
       " 'bright beauti cours light wink face camera flash throwback selectcitywalk scw saket loveforpos ootd motd selfmus poser instaclick instalov instap instashot posingisfun bloggersofinstagram bloggerstyl blogger goodvib instahappi instavib picoftheday lookoftheday ig igdaili',\n",
       " 'calm pois like sea mysteri night sky star struck camera flash majorthrowback goamemori loveforpos ootd motd selfmus poser instaclick instalov instap instashot bloggersofinstagram bloggerstyl blogger delhiblogg travelphotographi traveldiari goodvib instahappi instavib videooftheday lookoftheday ig igdaili',\n",
       " 'hoodi weather ice cream weather less week mother natur upto cloud rain cold face hot face camera flash ridgefernand icecream icecream icecreamlov food icecreamtim icecreamlov icecreamlov icelolli love fotd motd pinklip portraitphotographi portrait pursuitofportrait mumbaiportrait bloggersofinstagram bloggersofindia igicecream instaicecream stun bmiblog momblogg mommyblogg indianmomblogg indianmommyblogg indianmombloggerstrib',\n",
       " 'keep watch wink face fashion fashionblogg fashionstyl instafashion styleinspo styleblogg styleoftheday stylesubmit makeupartist outfitinspir outfitoftheday outfitstyl streetstyl streetstylefashion streetstylelux laparisiennestyle minimalistcomfort athomewithhm hmstudioss theparisianchiqu cinemazara minimalstreetstyl cosmostreetstyl zarawoman hm hmxme ootdblogg streetstyledelhi desiinfluenc sakhikapur',\n",
       " 'bow hair kinda day ribbon two heart makeup makeupartist makeuptutori makeuplov makeupjunki professionalmakeupartist popxobeauti missmalinibeauti farsalicar artistsoninstagram makeupbym hudabeauti sephoragirl nykaabeauti beautyroutin beautycommun beautytipsandtrick beautyblogg desiinfluenc makeupbysakhikapur sakhikapur',\n",
       " 'two thing ive obsess book scent im enjoy collect coffe tabl book experienc differ scent past month especi two heart two heart also im vlog weekend im soooo excit woman danc medium light skin tone woman danc medium light skin tone coffeetabledecor coffeetablebook victoriabeckham voguemagazin vogu vogueindia narcisorodriguez narciso sakhikapur',\n",
       " 'liquid lip kinda day kiss mark makeup makeupartist makeuptutori makeuplov makeupjunki professionalmakeupartist popxobeauti missmalinibeauti farsalicar artistsoninstagram makeupbym hudabeauti sephoragirl nykaabeauti beautyroutin beautycommun beautytipsandtrick beautyblogg desiinfluenc makeupbysakhikapur sakhikapur',\n",
       " 'good morn love two heart fashion fashionblogg fashionstyl instafashion styleinspo styleblogg styleoftheday stylesubmit makeupartist outfitinspir outfitoftheday outfitstyl lifestyl streetstyl streetstylefashion streetstylelux laparisiennestyle minimalistcomfort theparisianchiqu minimalstreetstyl cosmostreetstyl ootdblogg streetstyledelhi desiinfluenc sakhikapur',\n",
       " 'summer white fashion fashionblogg fashionstyl instafashion styleinspo styleblogg styleoftheday stylesubmit makeupartist outfitinspir outfitoftheday outfitstyl lifestyl streetstyl streetstylefashion streetstylelux laparisiennestyle minimalistcomfort theparisianchiqu minimalstreetstyl cosmostreetstyl ootdblogg streetstyledelhi desiinfluenc sakhikapur',\n",
       " 'eleg insid beauti outsid black heart coco chanel fashion fashionblogg fashionstyl instafashion styleinspo styleblogg styleoftheday stylesubmit makeupartist outfitinspir outfitoftheday outfitstyl lifestyl streetstyl streetstylefashion streetstylelux laparisiennestyle minimalistcomfort theparisianchiqu minimalstreetstyl cosmostreetstyl ootdblogg streetstyledelhi guccibelt gucci zara zaradress zarawoman desiinfluenc sakhikapur',\n",
       " 'guess three musket smile face heart eye smile face sunglass smile face heart eye one touchwood wali pictur face blow kiss life get busier day day creat balanc home life work alway mind never compromis person tip hand light skin tone femal sign spend good time kiddo connect mum kid flourish rainbow fun kid creat piou bond red heart help grow help understand better believ im around littl lad life seem easi go fill love fond hug face listen laughter face tear joy see play abacu memo mess zani face around make wonder quickli time fli isnt mother think way guess think fa',\n",
       " 'hey peep here interest read mom wanna know fit transform smile face smile face tri assembl thought fit journey realli start smile face heart read let know find open hand direct link bio indianblogg blogpag shivangigoel mytwolittlefeet indiancr indianmomblogg indianfitnessblogg indianlifestyleblogg delhimom delhimomblogg indianyoga yogimom fit lifestyl momhood momblog websit newlook',\n",
       " 'promis ive use niveaindia deo milk product sinc coupl day solv underarm problem milk essenc nourish premium fragranc keep fresh day one applic keep odour free fresh day long avail use coupon code deomilk head link bio valid till th septemb nykaa niveafory niveadeomilk madetocar niveagiveaway niveaindia giveawayindia niveacrem contestalert indiangiveaway nykaa nykaabeauti nivea discount couponcod sale fashionblogg fashionstyl indianinfluenc mumbaifashionblogg delhifashionblogg bloggersofindia',\n",
       " 'uh huh honey heart arrow sparkl izzyhipst makeuplook punefashionblogg indianblogg puneblogg bornoninstagram',\n",
       " 'im mad disney high voltag ib itsbybrandonsong salemiles izzyhipst punefashionblogg puneblogg bornoninstagram makeupchalleng makeuplook makeuplook makeuptutori disney makeuptrend makeupaddict',\n",
       " 'new talk town viisher get fun cool vifilt viofficialfanworld happybdayandi sept septloveig sokd glabra easypeasi sep gag',\n",
       " 'receiv super amaz portabl blender blender powerhous blender pack punch chocol chocol bar smoothi sake love gorgeou design portabl realli amaz blend smoothi matter minut even crush ice power cord requir total wireless micro usb port charg good go blend highli recommend also make smoothi protein drink cocktail home everi grab amaz product use discount code sumitakapoor blendjet jenselt blendjet blendjetambassador smoothi delhimomblogg seouv himyogdec clink glass saisatdi thsep',\n",
       " 'get annoy movi night interrupt kitchen chefboss make sure dont miss singl scene movi keep everyon happi rivetingli tasti dish spaghetti minut comfort hous garden home backhand index point right light skin tone use chefbossindia product steal extra time alarm clock retain authent tast favourit dish shallow pan food backhand index point right light skin tone want featur chefboss instagram page use iamchefboss share favourit dish use chefboss product backhand index point right light skin tone follow simpl step part iamchefboss contest camera take pictur video dish along chefboss pack camera post feed tag chefbossindia use contest hashtag iamchefboss excit prize wrap gift grab best creativ engag dish bowl sp',\n",
       " 'collis everi big thing small begin let plant seedl small grow big cute littl famili man woman boy boy five pot thedecorsh perfect decor beauti plant herb pot ideal piec home perfect indoor outdoor use the pot use mini pot succul flower wilt flower plant bonsai plant cactu plant cactu air plant mini artifici flower even pen pencil contain tabl top desktop ornament etc cute fanci stylish planter camp made poli resin durabl planter pot carv green heart impress color design style abil give home new appeal resin pot breathabl good plant grow ideal uniqu gift option delight ador planter mapl leaf thedecorsh posit eco friendli gift item natur garden enthusi',\n",
       " 'eleg perfect without main essenti especi pair beauti handmad shell mirror purpl heart got mirror kerala handcraft store tap detail flatlaybyombr flatlay flatlaystyl aesthet trend lilac feed inspir bloggerstyl bangaloreblogg mirror bobbiebrown jomalon perfum beauti blogger contentcr moodygram beautyinfluenc handmadejewelri vintagestyl flatlayphotographi flatlayoftheday boldandbeauti posit vogu inspir goldenhour bangaloreinfluenc luxurylifestyl',\n",
       " 'grow heart instagram live page th sept pm grow heart join us win free pass worth stronger workshop person session winner announc like post follow soultherapywithharleenbagga fashionista club tag friend post make sure follow account share post stori tag soultherapywithharleenbagga fashionista club announc giveaway result sep th pm ist blossom stay tune blossom giveawayalert giveaway contest giveaway giveawaytim giveawayindia competit giveawaycontest instagramgiveaway todaysgiveaway giveawaysofinstagram repost contestalert jayadang punefashionblogg gratitud collabor participatenow particip lifecoach lifecoachingwithharleenbagga relationshipadvicewithharleenbagga gettinganswerswithharleenbagga personalgrowthwithharleenbagga psychotherapist soultherapywithharleenbagga soultherapi e',\n",
       " 'crown trinket tuesday crown ethnic beauti rubansaccessori rock shoulder top dont agre grin face big eye love type style crown what favorit style hack comment let know smile face smile eye crown jewelleri gift birthday thought besti bhat grow heart grow heart follow fashionista club daili skin care beauti fashion tip check reel seri differ oil beauti benefit jayadang punefashionblogg quarentinelif explorem creativeportrait eyesspeak selfobsess beingyourself justbey becrazi styledaili minimalstyl stylegram classyoutfit outfitblog diyproject fashionshoot portraitzoom urbanstreetwear fashiontherapi fashioncr inspiringoutfit momentsofch stylehunt rubansaccessori castlrop',\n",
       " 'blossom coffe bean scrub blossom blossom dead sea mud face pack blossom silktreeindia match made heaven blossom coffe bean pack antioxid revers effect sun damag free radic also aid repair skin tissu import regrowth new cell result bright glow skin blossom dead sea salt effect repair damag cell stimul blood curcul sooth detoxifi skin dead sea salt also oxygen effect due polish skin make youth radiant ask weekli skin care routin also silktreeindia entir rang beauti product natur ingredi best price check blossom use discount code jaya avail flat order minimum purchas rs follow fashionista club daili skin care beauti fashion tip check reel seri di',\n",
       " 'smile often itll better soon smile hope sparkl picsart poetrybym poemsporn poemsvib poet poetsandwrit delhipoetryslam mumbaifashionblogg mumbaiblogg mumbaiblogg delhiblogg hyderabadblogg hyderabadblogg bangalorefashionblogg bangaloreinfluenc bangaloreblogg delhiblogg delhifashionblogg delhifashionblog kolkatafashionblogg kolkatablogg kolkatastyleblogg indianfashionblogg asianfashionblogg asianfashionmodel asianfashionista delhiinfluenc indianfashionsquad spilledinkpoetri fashionista picsart bossbab punjabimodel punjabfashionblogg delhifashioninfluenc fromscribblestowrit',\n",
       " 'feather touch give beauti feather like hair remov experi special fomrul remov hair safe sensit root leav skin clear moisturis feather soft natur ingredinet provid aditon benefit clearer look skin definit tri gem product vijohnwomenfeathertouch white heart delhifashionblogg delhifashion delhiblogg delhi chandigarhfashionblogg chandigarhmein chandigarhfashionblogg chandigarh chandigarhblogg mumbaifashionblogg mumbaiblogg mumbaiblogg mumbaifashionblogg punefashionblogg kolkatafashionblogg chennaifashionblogg fashionbloggerindia indianfashionblogg indianfashionblogg styleblogg fashioninfluenc fashionblog blackdress chandigarh diari chandigarhclub delhistreet mumbaiclick mumbaimakeup india chandigarhgirl',\n",
       " 'dizzi sparkl work got energi chefboss help get energi level back jiffi home enjoy delici dish minut explor wide rang product chefboss use chefbossindia product retain authent tast favourit dish shallow pan food let culinari skill talk town excit prize grab cook click tag usyou order chefboss rang cook sauc past gravi choic follow simpl step part iamchefboss contesttak pictur video dish along chefboss packpost feed tag chefbossindia use contest hashtag iamchefboss excit prize grab best creativ engag dishord chefboss product flipkart amazon grofer milkbasket dont forget contest valid till th sep healthyywealthyywise august tagg l k sbi rgan c reconci',\n",
       " 'ketoformandira trend mandirabedi nutroact look found smile face heart eye smile face heart eye keto atta healthi variat atta grain good peanut coconut flax seed sesam seed almond etc low carb perfect healthi diet made roti atta guess smile face heart eye smile face heart eye roti came delici face savor food guy add nutroact keto atta diet eathealthystayhealthi tag nutroactivehastag ketoformandira trend mandirabedi nutroact ketodiet ketoatta weightloss yummi weightlossjourney fitnessmotiv marketingplug delici yum love instagood blogger photooftheday beauti happi tbt like like followm august tagg',\n",
       " 'work got energi chefboss help get energi level back jiffi home enjoy delici dish minut explor wide rang product chefboss use chefbossindia product retain authent tast favourit dish shallow pan food let culinari skill talk town excit prize grab cook click tag usyou order chefboss rang cook sauc past gravi choic follow simpl step part iamchefboss contesttak pictur video dish along chefboss packpost feed tag chefbossindia use contest hashtag iamchefboss excit prize grab best creativ engag dishord chefboss product flipkart amazon grofer milkbasket dont forget contest valid till th sep gobhimasala instantcook chefboss cookingiseasi cookingathom tasti healt',\n",
       " 'dress alway keep fashion game croc brooklyn collect crocsindia crocsindia comeasyouar devkixcroc thesnazzydiva crocsbrooklyn croc footwearfashion',\n",
       " 'makeup remov made super easi mamaearth micellar water foam makeup remov purpl heart tropic drink long makeup remov process remov makeup minut use product water sunflow micellar water foam face wash tearless formula contain soft brush glide skin softli sunflow contain glycol acid work mild exfoli rose water help gentl tone skin sunflow im super impress result watch video learn use makeup remov facewash sunflow mamaearth mamaearth mamaearthskincar mamaearthmicellarfacewash micellarfacewash mamaearthlovesy minutetocleanit mamaearthmicellar micellarwat',\n",
       " 'one bag differ way cherri blossom cherri blossom bloggergirl bloggersofinstagram bloggerstrib bohemianfashion bohemianlook hippiecloth bohocloth boholook boholov agameofton dscolor stylepost mylookoftheday personalstyleblog fashionfuri ootdinspo fashioninspo fashioninfluenc fashionlook foodlov onthet tastemad smartfoodchoic liveauthent playbeauti talkthatmakeup makeuptalk makeupnew manifest manifestyourdream maairafashionbag',\n",
       " 'lunch perfect view mountain river tree graciou host make memor memor ps feedback give host serv plastic water bottl go forward instead keep one water bhutan simpli magic lifeoutsidecubicl bornoninstagram tripotocommum highonhimalaya amazingbhutan insidebhutan bhutan ig bhutantravel bhutandiari bhutantour happinessisaplac cntgiveitashot natgeoyourshot fatalfram throwbackthursday yourshotphotograph shotz delight gramslay agameofton highlandernetwork indiantravelblogg highmountain indiantravel mypixeldiari photograph india photo pond himalaya himalayangeograph mountainsofinstagram',\n",
       " 'view icon chittorgarh lifeoutsidecubicl tripotocommum bornoninstagram instaindia incredibleindia igram india coi soi woi storiesofindia indiantravel indiangirlstravel shetravelsindia rangeelorajasthan rajasthan rajasthandiari rajasthantour rajasthantrip rajasthantravel rajasthanblog rajasthanclick rajasthantheheaven photograph india mypixeldiari indianphotographyhub indianphotographyclub discoverindiamagazin lonelyplanetindia chittorgarh photo pond',\n",
       " 'explor bump thing make smile thing inspir ta nowher street art random corner ride narrow lane goa one thing beauti paint smile ladi solomonsouza line next learn almond leafwhich flame fall ground burn earth burn flamboyancei see want know ladi littl googl search led eunic dsouza renown poet novelist literari critic former professor indian woman includ theoxford india antholog twelv modern indian poet foreground woman sens self worth say want live sacrifici paradigm rigid social convent term condit evid line recommend stern standardsoth say float along say take come mean cours h',\n",
       " 'kochi thing red heart everi place vibe cultur part travel enjoy connect heart soul place around kochi thing wouldnt miss coconut tree sway along street backwat chill hammock coconut tree street art leaf art art cafe color art art art around boat vibrant sunset chines fish net favourit memori kochi lifeoutsidecubicl tripotocommum bornoninstagram kochi kochidiari kochigram kochivib kerala keralatravel keralatour keralavib keralagram keralagalleri keralasnap coi soi woi storiesofindia southindia igram india discoverindiamagazin lonelyplanetindia yourshotphotograph yourshot india photograph india mypixeldiari spicollect streetphotographyindia indianphotographyhub indianphotographyclub',\n",
       " 'sunsetsboatslazi eveningscatch wave messi messi right lifeoutsidecubicl tripotocommum coi soi ipc visualsofindia woi travellersofindia keralavib keralagram keralagalleri keralatour keralasnap kochidiari kochigram kerala kochi photograph india mypixeldiari agameofton gramslay shotzdelight discoverindiamagazin bornoninstagram cntgiveitashot yourshotphotograph yourshot india clickshotindia shutterbugsindia shuttersofindia',\n",
       " 'happi th independ day india hold thing love believ magic life red heart lifeoutsidecubicl bornoninstagram tripotocommum highonhimalaya amazingbhutan insidebhutan bhutan ig bhutantravel bhutandiari bhutantour happinessisaplac cntgiveitashot natgeoyourshot fatalfram wingsoffreedom yourshotphotograph shotz delight gramslay agameofton highlandernetwork indiantravelblogg highmountain indiantravel mypixeldiari photograph india photo pond happyindependenceday himalayangeograph august bhutan',\n",
       " 'ode farmer harvest pleas appreci hard work dedic farm commun respect fresh produc market haggl bargain buy veget green farmer hardest job planet yet underpaid appreci pleas take grant help tri buy directli farmer farmer market much possibl avoid supermarket eat season produc avoid frozen can food find opportun volunt help farm farmer around place unawar technolog best practic help inform awar form commun neighbourhood creat market produc directli bought farmer avoid middlemen monopolyand farmer get fair price bit small big help farmer need right lifeoutsidecubicl bornoninstagram tripotocommum coi soi storiesof',\n",
       " 'one definit travel limit time go hop hop place prefer slow travel explor place heart soul choos histori cultur opt parti hustl bustl disconnect technolog world spend time middl natur prioritis volunt conserv choos differ thing differ time usual prefer homestay spend time local bit photographi wonder friend mine llb enjoy everi second travel observ everyth around make sketch note travel beyond beauti present us unlimit opportun becom better individu love letter question mark what way travel lifeoutsidecubicl bornoninstagram tripotocommum highonhimalaya amazingbhutan insidebhutan bhutan ig bhutantravel bhutandiari bhutantour happinessisaplac cntgiveitashot natgeoy',\n",
       " 'find thing joy beauti place least expect church middl made smile lifeoutsidecubicl tripotocommum coi soi woi storiesofindia lonelyplanetindia yourshotphotograph mypixeldiari discoverindiamagazin cntgiveitashot telltnlindia bbc travel indianphotographi indiantravelblogg indiantravel india everyday indiapictur indiaphotosocieti igram india indianphotographyhub indianphotographyclub mypixeldiari photograph india clickshotindia clickindiaclick walkwithindia shutterbugsindia shotonpoco bornoninstagram',\n",
       " 'fan histor time use royal rich merchant beat heat pic majest have shekhawati region rajasthan look gloriou paint cover wall pure magic lifeoutsidecubicl tripotocommum bornoninstagram instaindia incredibleindia igram india coi soi woi storiesofindia indiantravel indiangirlstravel shetravelsindia rangeelorajasthan rajasthan rajasthandiari rajasthantour rajasthantrip rajasthantravel rajasthanblog rajasthanclick rajasthantheheaven photograph india mypixeldiari indianphotographyhub indianphotographyclub discoverindiamagazin lonelyplanetindia discoverindiamagazin photo pond',\n",
       " 'pure airclear waterincred architecturebreathtak sceneri seren natur bhutan simpli magic lifeoutsidecubicl bornoninstagram tripotocommum highonhimalaya amazingbhutan insidebhutan bhutan ig bhutantravel bhutandiari bhutantour happinessisaplac cntgiveitashot natgeoyourshot fatalfram throwbackthursday yourshotphotograph shotz delight gramslay agameofton highlandernetwork indiantravelblogg highmountain indiantravel mypixeldiari photograph india photo pond himalaya himalayangeograph mountainsofinstagram',\n",
       " 'hello peopl today want convey messag everyon connect social media whatsapp linkedin instagram facebook etc let convers meaning pleas convey messag one go start hi r u hello go silent repli sorri havent grab attent gone day text thing mobil everi messag beep made brim pride gone day also',\n",
       " 'your driver destini passeng none control look forward thing must done hope dream yet reach motiv display journey full up down experi gain day direct alway forward backward remain discov authent self willing chang enhanc qualiti given develop talent bless transform heart one gold believ everi',\n",
       " 'your driver destini passeng none control look forward thing must done hope dream yet reach motiv display journey full up down experi gain day direct alway forward backward remain discov authent self willing chang enhanc qualiti given develop talent bless transform heart one gold believ everi',\n",
       " 'mind like balloon static cling attract random idea float',\n",
       " 'second long exposur use haidafilt medium nd filter stop shot near sojha himach pradesh calcul karo without stop nd filter kitni shutter speed aati gear canonindia offici mark iii mm f haida haidafilt waterfal longexposur sojha jibhi himach himachaldiari himachalpradesh himachalpictur indiaclick indiapictur instalik photographersofindia soi indiatim coi picoftheday dslroffici ig asia ig world creativem',\n",
       " 'photowalk group photo alka plan flavorsofdelhi photowalk delhi past year continu main object share knowledg happi see mani new face join walk time next photowalk kaha kari jae flavorsofdelhi photowalk delhi',\n",
       " 'yamuna ghat recent got know great news local improv water qualiti yamuna river delhi jal board wednesday accord approv construct india largest sewag treatment plant okhla sourc weather com hope start sometim soon model gauravv singhh shot use canonindia offici yamunaghat sodelhi indiaclick indiapictur instalik photographersofindia soidelhi soi indiatim coi picoftheda',\n",
       " 'delhi full surpris shot use xiaomiindia redmik mm ultrawid camera pro tip',\n",
       " 'month back tri someth differ took sigmaphotoindia mm len okhla bird',\n",
       " 'photographi comment slightli smile face shall pin best one still rememb use shoot hour without even realiz skip meal abhi bhi hota hai roll floor laugh camera rkp india thephotographyblogg tpbchalleng',\n",
       " 'shot fp use canonindia offici eo r rf mm f thank polarpro variabl nd filter allow maintain sec shutter speed f broad day light thephotographyblogg tpbchalleng canon canonindia canonr polarpro',\n",
       " 'yamunaguess apertur valu use thephotographyblogg tpbchalleng delhi',\n",
       " 'cycl us use get fit mani still mean transport shot canonindia offici eo r rf mm f thephotographyblogg tpbchalleng delhi streetphotographi streetphotograph indiapictur indiaclick canonindia canonr',\n",
       " 'shot use anim af canon eo r man one best advanc come across canon user almost year sure bless wildlif photograph shot f use rf canon f len thephotographyblogg tpbchalleng canonindia canonr',\n",
       " 'mask aur cycl aisi cheez hai jo last kuch month mei sabs zada sell hui hongi roll floor laugh end buy one week back smile face sunglass shot test amaz combo rf mm f len canon eo r thephotographyblogg tpbchalleng canonr canonindia',\n",
       " 'moment saw stair outsid metro station thought creat someth dramat use lead line wait click minut point get anyth interest final man formal pass frame captur motion slightli smile face btw shot smartphon camera ab kaunsa tha wo yaad nahi roll floor laugh thephotographyblogg tpbchalleng streetphotographi mobileclick mobilephotographi delhi',\n",
       " 'tri x zoom samsung note ultra kaisa laga result thephotographyblogg tpbchalleng samsungnot ultra samsungindia mobilephotographi mobileclick',\n",
       " 'miss magic sunris view yamuna ghat click photo locat simpl yet challeng time see multipl activ happen simultan tempt photographi enthusiast run captur moment relat wrote slightli smile face complet post process done use instagram tool smile face sunglass thephotographyblogg tpbchalleng yamunaghat delhi sunris indiaclick indiapictur canon',\n",
       " 'drop shine ig travelwithdanish travelwithdanish shot pixel xl teampixel focusontheweekend googlecolor len rhinoshield instagram nvedi leaf lonelyplanet indiapictur earth streetphotographyindia hobbygraphi coi soi natgeoyourshot spicollect lpmi travelrealindia tripotocommun iifram cntgiveitashot natgeoindia sidthewander sodelhi whatkarllov street vision nustaharamkhor maibhisadakchap streetphotographyindia indianphoto natur',\n",
       " 'sometim need take break everyon everyth spend time alon experi appreci love sohaima ali gift beauti shirt goa trip unfortun couldnt go due fuck pandem wore recent trip bihar thank small word appreci done yet id like thank everyth youv done care uncondit support forev love pc beyousaif ig travelwithdanish travelwithdanish instagram bbcearth nvedi thisweekoninstagram holi indiainfram indianphoto india incrediableindia nustaharamkhor lonelyplanet streetphotographyindia hobbygraphi othalloffram coi soi natgeoyourshot lpmi travelrealindia tripotocommun mypixeldiari mypixeldairi foto everoffici cntgiveitashot natgeoindia indiapictur',\n",
       " 'see evil monkey see evil monkey red heart red heart pc bhupesh pal ig travelwithdanish travelwithdanish shot pixel xl googl teampixel madebygoogl instagram bbcearth nvedi thisweekoninstagram holi indiainfram indianphoto india incrediableindia nustaharamkhor lonelyplanet streetphotographyindia hobbygraphi othalloffram coi soi natgeoyourshot lpmi travelrealindia tripotocommun mypixeldiari mypixeldairi foto everoffici cntgiveitashot natgeoindia indiapictur',\n",
       " 'colour pride white flag rainbow ig travelwithdanish travelwithdanish shot pixel xl googl teampixel madebygoogl prideforeveryon instagram bbcearth nvedi thisweekoninstagram holi indiainfram indianphoto india incrediableindia nustaharamkhor lonelyplanet streetphotographyindia hobbygraphi othalloffram coi soi natgeoyourshot lpmi travelrealindia tripotocommun mypixeldiari mypixeldairi foto everoffici cntgiveitashot natgeoindia indiapictur hellofrom',\n",
       " 'pushkar rajasthan travelwithdanish travelwithdanish shot canon capturedoncanon canonindia offici instagram bbcearth nvedi thisweekoninstagram indiainfram indianphoto india incrediableindia nustaharamkhor lonelyplanet streetphotographyindia hobbygraphi coi soi natgeoyourshot lpmi travelrealindia tripotocommun mypixeldiari mypixeldairi foto everoffici cntgiveitashot natgeoindia indiapictur maibhisadakchap ngtindia hellofrom',\n",
       " 'one erad cruelti within mind look upon everyon world friend sri guru granth sahib ji ang travelwithdanish travelwithdanish bbctravel nvedi bwphotographi yourshotphotograph indiapictur foto everoffici mypixeldairi indianphotographi photograph india storiesofindia coloursofindia hobbygraphi othalloffram indiapictur moodygram lpmi travelrealindia zonestreet eoi india undiscov inspiroindia beautifuldestin natgeoindia passionpassport somewheremagazin bnw greatshot bbcearth bnwmood goldentempl',\n",
       " 'muharram new delhi spi silhouett travelwithdanish travelwithdanish bbctravel nvedi bwphotographi yourshotphotograph indiapictur foto everoffici mypixeldairi indianphotographi photograph india storiesofindia coloursofindia hobbygraphi othalloffram indiapictur moodygram lpmi travelrealindia zonestreet eoi india undiscov inspiroindia beautifuldestin natgeoindia somewheremagazin bnw greatshot bbcearth bnwmood passionpassport',\n",
       " 'ig travelwithdanish travelwithdanish shot pixel xl googl teampixel snapthat focusontheweekend instagram bbcearth nvedi thisweekoninstagram holi indiainfram indianphoto india incrediableindia nustaharamkhor lonelyplanet streetphotographyindia hobbygraphi othalloffram coi soi natgeoyourshot lpmi travelrealindia tripotocommun mypixeldiari mypixeldairi foto everoffici cntgiveitashot natgeoindia indiapictur lpmiindianscen',\n",
       " 'peac solitud golden hour travelwithdanish travelwithdanish bbctravel nvedi bwphotographi yourshotphotograph indiapictur foto everoffici mypixeldairi indianphotographi photograph india storiesofindia coloursofindia hobbygraphi othalloffram indiapictur moodygram lpmi travelrealindia zonestreet eoi india undiscov inspiroindia beautifuldestin natgeoindia passionpassport somewheremagazin bnw greatshot bbcearth bnwmood lpmiindianscen',\n",
       " 'welcom ganesha smile face heart eye red heart travelwithdanish travelwithdanish shot canon capturedoncanon canonindia offici bbctravel delhi feelingthechang yourshotphotograph indiapictur mypixeldairi indianphotographi photograph india storiesofindia coloursofindia hobbygraphi othalloffram soidelhi indiapictur moodygram lpmi travelrealindia zonestreet eoi india undiscov inspiroindia cntgiveitashot natgeoindia dfordelhi sodelhi delhiwal ngtindia lpmiindianscen',\n",
       " 'happi world photographi day victori hand red heart pc photubaaz bhai travelwithdanish bbctravel delhi india nvedi nustaharamkhor maibhisadakchap indiapictur foto everoffici mypixeldairi indianphotographi photograph india storiesofindia coloursofindia hobbygraphi othalloffram moodygram lpmi travelrealindia coi soi tripotocommun india undiscov cntgiveitashot natgeoindia dfordelhi sodelhi delhiwal indianphoto']"
      ]
     },
     "execution_count": 20,
     "metadata": {},
     "output_type": "execute_result"
    }
   ],
   "source": [
    "corpus\n"
   ]
  },
  {
   "cell_type": "code",
   "execution_count": 21,
   "metadata": {},
   "outputs": [],
   "source": [
    "from textblob import TextBlob"
   ]
  },
  {
   "cell_type": "code",
   "execution_count": 22,
   "metadata": {},
   "outputs": [],
   "source": [
    "def foo1(x):\n",
    "    return TextBlob(x).sentiment.polarity"
   ]
  },
  {
   "cell_type": "code",
   "execution_count": 23,
   "metadata": {},
   "outputs": [],
   "source": [
    "category['polarity']=pd.Series(corpus).apply(foo1)"
   ]
  },
  {
   "cell_type": "code",
   "execution_count": 24,
   "metadata": {},
   "outputs": [],
   "source": [
    "def foo2(x):\n",
    "    if x<0:\n",
    "        return 'negative'\n",
    "    elif x==0:\n",
    "        return 'neutral'\n",
    "    else:\n",
    "        return 'positive'\n",
    "        \n",
    "    "
   ]
  },
  {
   "cell_type": "code",
   "execution_count": 25,
   "metadata": {},
   "outputs": [],
   "source": [
    "category['polarity']=category['polarity'].apply(foo2)"
   ]
  },
  {
   "cell_type": "code",
   "execution_count": 26,
   "metadata": {},
   "outputs": [
    {
     "data": {
      "text/html": [
       "<div>\n",
       "<style scoped>\n",
       "    .dataframe tbody tr th:only-of-type {\n",
       "        vertical-align: middle;\n",
       "    }\n",
       "\n",
       "    .dataframe tbody tr th {\n",
       "        vertical-align: top;\n",
       "    }\n",
       "\n",
       "    .dataframe thead th {\n",
       "        text-align: right;\n",
       "    }\n",
       "</style>\n",
       "<table border=\"1\" class=\"dataframe\">\n",
       "  <thead>\n",
       "    <tr style=\"text-align: right;\">\n",
       "      <th></th>\n",
       "      <th>Statement</th>\n",
       "      <th>Keywords</th>\n",
       "      <th>polarity</th>\n",
       "    </tr>\n",
       "  </thead>\n",
       "  <tbody>\n",
       "    <tr>\n",
       "      <td>0</td>\n",
       "      <td>:dizzy::sunflower::herb: You might not see it ...</td>\n",
       "      <td>amazondotin amazonfashion amazoninfluencer bek...</td>\n",
       "      <td>negative</td>\n",
       "    </tr>\n",
       "    <tr>\n",
       "      <td>1</td>\n",
       "      <td>Yes You heard it right... You can have paratha...</td>\n",
       "      <td>awifesperspective</td>\n",
       "      <td>positive</td>\n",
       "    </tr>\n",
       "    <tr>\n",
       "      <td>2</td>\n",
       "      <td>Those were the days.... No Corona No masks.......</td>\n",
       "      <td>awifesperspective</td>\n",
       "      <td>positive</td>\n",
       "    </tr>\n",
       "    <tr>\n",
       "      <td>3</td>\n",
       "      <td>Agree??It happens to me every week... What abo...</td>\n",
       "      <td>awifesperspective</td>\n",
       "      <td>negative</td>\n",
       "    </tr>\n",
       "    <tr>\n",
       "      <td>4</td>\n",
       "      <td>:white_medium_star::upside-down_face::white_me...</td>\n",
       "      <td>bowtieandlipsticks covid19 gocoronago healthti...</td>\n",
       "      <td>positive</td>\n",
       "    </tr>\n",
       "  </tbody>\n",
       "</table>\n",
       "</div>"
      ],
      "text/plain": [
       "                                           Statement  \\\n",
       "0  :dizzy::sunflower::herb: You might not see it ...   \n",
       "1  Yes You heard it right... You can have paratha...   \n",
       "2  Those were the days.... No Corona No masks.......   \n",
       "3  Agree??It happens to me every week... What abo...   \n",
       "4  :white_medium_star::upside-down_face::white_me...   \n",
       "\n",
       "                                            Keywords  polarity  \n",
       "0  amazondotin amazonfashion amazoninfluencer bek...  negative  \n",
       "1                                  awifesperspective  positive  \n",
       "2                                  awifesperspective  positive  \n",
       "3                                  awifesperspective  negative  \n",
       "4  bowtieandlipsticks covid19 gocoronago healthti...  positive  "
      ]
     },
     "execution_count": 26,
     "metadata": {},
     "output_type": "execute_result"
    }
   ],
   "source": [
    "category.head()"
   ]
  },
  {
   "cell_type": "markdown",
   "metadata": {},
   "source": [
    "# Sentiment analysis of statements\n"
   ]
  },
  {
   "cell_type": "code",
   "execution_count": 32,
   "metadata": {},
   "outputs": [],
   "source": [
    "groups={i:category[category['polarity']==i]['Keywords']  for i in category['polarity'].unique()}"
   ]
  },
  {
   "cell_type": "code",
   "execution_count": 40,
   "metadata": {},
   "outputs": [
    {
     "data": {
      "text/plain": [
       "<matplotlib.axes._subplots.AxesSubplot at 0x13761a80dc8>"
      ]
     },
     "execution_count": 40,
     "metadata": {},
     "output_type": "execute_result"
    },
    {
     "data": {
      "image/png": "[encoded data removed]",
      "text/plain": [
       "<Figure size 432x288 with 1 Axes>"
      ]
     },
     "metadata": {},
     "output_type": "display_data"
    }
   ],
   "source": [
    "category.polarity.value_counts().plot(kind='pie')"
   ]
  },
  {
   "cell_type": "code",
   "execution_count": 72,
   "metadata": {},
   "outputs": [
    {
     "data": {
      "text/plain": [
       "positive    0.708738\n",
       "neutral     0.203883\n",
       "negative    0.087379\n",
       "Name: polarity, dtype: float64"
      ]
     },
     "execution_count": 72,
     "metadata": {},
     "output_type": "execute_result"
    }
   ],
   "source": [
    "category.polarity.value_counts(normalize=True)"
   ]
  },
  {
   "cell_type": "code",
   "execution_count": 73,
   "metadata": {},
   "outputs": [],
   "source": [
    "#statements are mostly positive"
   ]
  },
  {
   "cell_type": "code",
   "execution_count": 41,
   "metadata": {},
   "outputs": [],
   "source": [
    "corpus1=[]\n",
    "for i in range(len(comment['Comment'])):\n",
    "    helo=re.sub('[^a-zA-Z]',' ',comment['Comment'][i])\n",
    "    helo=helo.lower()\n",
    "    helo=helo.split()\n",
    "    helo=[kc.stem(k) for k in helo if k not in set(stopwords.words('english'))]\n",
    "    helo=' '.join(helo)\n",
    "    corpus1.append(helo)\n",
    "    \n",
    "    "
   ]
  },
  {
   "cell_type": "markdown",
   "metadata": {},
   "source": [
    "# sentiment analysis of comments"
   ]
  },
  {
   "cell_type": "code",
   "execution_count": 43,
   "metadata": {},
   "outputs": [
    {
     "data": {
      "text/plain": [
       "['omg never beliv abl loss weight tri sever method go gym mani thing help thank dr wisdom herb made possibl abl loss weight use herb root ship drink one month weight return normal happiest creation earth thank dr wisdom herb god bless forev love',\n",
       " 'plumbodylovin great giveaway lol skinni back school cant even begin tell mani taunt use receiv khaati piti nai hai kya kuch like bruhhh annoy',\n",
       " 'dont believ bodi shame',\n",
       " 'eve face bodysham care plumgood',\n",
       " 'wait till school day skinni bad phase',\n",
       " 'check plumbodylovin never bodi shame victim color',\n",
       " 'hv hving',\n",
       " 'alway find syrup cold cough tablet cofsil india bag',\n",
       " 'need weather',\n",
       " 'realli care get cough hell throat definit check',\n",
       " 'wat want father cofsil india',\n",
       " 'drool ovenstori pizza',\n",
       " 'pizza long',\n",
       " 'miss hving chees burst pizza',\n",
       " 'need pizza ovenstroy',\n",
       " 'oh wow feel hungri',\n",
       " 'girl look bomb af',\n",
       " 'omg want paryushan though',\n",
       " 'await video',\n",
       " 'word pretti worthless without',\n",
       " 'letecom grassisgreeenish cocreateyourjourney iinstahash wed aug',\n",
       " 'kri sha kindli check dm offer thank',\n",
       " 'definit check',\n",
       " 'product seem promis one',\n",
       " 'watch caught attent',\n",
       " 'wait video dear',\n",
       " 'check collect gudindia red blue suit much',\n",
       " 'definit check gudindia collect',\n",
       " 'superb thought krisha',\n",
       " 'alway self love everyth beauti way share contest friend',\n",
       " 'amaz giveaway',\n",
       " 'like wow realli amaz',\n",
       " 'inspir bodi beauti',\n",
       " 'girl experi total agre word plumbodylovin hope win',\n",
       " 'ye everi bodi beauti bodi',\n",
       " 'wow one absolut ador',\n",
       " 'definit bodi love amaz initi plumbodylovin',\n",
       " 'awesom initi plumbodylovin famili member comment thigh know thick thigh save live',\n",
       " 'still face fat shame day okay love bodi kuddo plumbodylovin',\n",
       " 'fat sham life total relat plumbodylovin',\n",
       " 'tht amaz initi plumbodylovin definit particip',\n",
       " 'cute need tri th rang',\n",
       " 'alway love',\n",
       " 'definit bodi love alway',\n",
       " 'that pretti amaz initi plumbodylovin abt bodi shame care peopl think kuch toh log kaheng logo ka kaam hai kehna',\n",
       " 'product seem excel one',\n",
       " 'wow inspir',\n",
       " 'inspir',\n",
       " 'yusssss soooooo inspir',\n",
       " 'perspect good',\n",
       " 'cofsil india realli nice like',\n",
       " 'cofsil india seem realli help cure cough',\n",
       " 'essenti product hour cofsil india',\n",
       " 'cofsil india saviour sure',\n",
       " 'get one cofsil india',\n",
       " 'cofsil india saviour sure',\n",
       " 'thank share sure order',\n",
       " 'cofsil india gargl must keep us protect chang weather health issu',\n",
       " 'cofsil india alway made feel better household stapl',\n",
       " 'that one trust',\n",
       " 'cofsil india realli amaz cough cold',\n",
       " 'product look amaz tri',\n",
       " 'product look great tri',\n",
       " 'wow inform post',\n",
       " 'post realli inform',\n",
       " 'cofsil india amaz product gargl',\n",
       " 'cofsil india alway savior',\n",
       " 'alreadi',\n",
       " 'wow inform post',\n",
       " 'forev love',\n",
       " 'ovenstori fav pizza',\n",
       " 'tempt',\n",
       " 'wow look yum',\n",
       " 'wow fabul realli like',\n",
       " 'seem like yummi pizza',\n",
       " 'wait order ovenstori',\n",
       " 'amaz best pizza',\n",
       " 'seem yumm would sure love',\n",
       " 'love order ovenstori whenev want snack pizza',\n",
       " 'ovenstori amaz cheesi pizzaaa',\n",
       " 'pizza forev love',\n",
       " 'ovenstori pizza favorit anyday',\n",
       " 'pretti shot',\n",
       " 'love style babe',\n",
       " 'hahah nice caption pic',\n",
       " 'look pretti one',\n",
       " 'beauti shot',\n",
       " 'hehe true look pretti',\n",
       " 'wwoww fabul',\n",
       " 'stun pictur',\n",
       " 'total well',\n",
       " 'aww u look incred cute',\n",
       " 'that pretti awesom shot love black zipper',\n",
       " 'beauti shot love edit',\n",
       " 'relat bte nice click',\n",
       " 'love shot krisha amaz',\n",
       " 'look perfect wing',\n",
       " 'look realli pretti absolut love top',\n",
       " 'hahah caption perfectli sum captur',\n",
       " 'relat cute',\n",
       " 'wow beauti shot',\n",
       " 'amaz post',\n",
       " 'look beauti nice pic',\n",
       " 'aww cute shot',\n",
       " 'pretti love ur smile',\n",
       " 'realli like aesthet',\n",
       " 'amaz shot',\n",
       " 'hehe cuteeeeee',\n",
       " 'beauti babe',\n",
       " 'pretti ya',\n",
       " 'gorgeou look n stun photographi',\n",
       " 'hey dear look ador',\n",
       " 'beauti shrug',\n",
       " 'stun whoaaaaa',\n",
       " 'love top wear',\n",
       " 'top look awesom',\n",
       " 'love wear gudindia',\n",
       " 'wait video excit',\n",
       " 'top look love',\n",
       " 'love top excit video',\n",
       " 'nice shot look gorgeou',\n",
       " 'amaz outfit look fabbb',\n",
       " 'look beauti alway',\n",
       " 'love colour combin gudindia',\n",
       " 'outfit look beauti',\n",
       " 'awesom combo look beauti',\n",
       " 'dress cute gudindia',\n",
       " 'love combo complet gudindia',\n",
       " 'combo best look love',\n",
       " 'red time favorit look superb',\n",
       " 'love outfit gudindia',\n",
       " 'look ravish',\n",
       " 'hey collabor photo edit let know check work profil agre dm thank',\n",
       " 'beauti shade',\n",
       " 'lakmeindia one favorit brand',\n",
       " 'love pretti lippi',\n",
       " 'wow love color lakmeindia',\n",
       " 'love lipstick lakmeindia',\n",
       " 'look fab red love lakmeindia',\n",
       " 'love lipstick shade',\n",
       " 'love whole look lakmeindia',\n",
       " 'lakmeindia red lipstick great pictur',\n",
       " 'love scarlet surg lip look amaz',\n",
       " 'look pretti dear',\n",
       " 'love pictur',\n",
       " 'love color lipstick',\n",
       " 'red lipstick look beauti',\n",
       " 'sure particip look stun',\n",
       " 'love red shade',\n",
       " 'beauti neck pc style',\n",
       " 'stun pichaa']"
      ]
     },
     "execution_count": 43,
     "metadata": {},
     "output_type": "execute_result"
    }
   ],
   "source": [
    "corpus1"
   ]
  },
  {
   "cell_type": "code",
   "execution_count": 44,
   "metadata": {},
   "outputs": [],
   "source": [
    "comment['polarity']=pd.Series(corpus1).apply(foo1)"
   ]
  },
  {
   "cell_type": "code",
   "execution_count": 45,
   "metadata": {},
   "outputs": [],
   "source": [
    "def foo2(x):\n",
    "    if x<0:\n",
    "        return 'negative'\n",
    "    elif x==0:\n",
    "        return 'neutral'\n",
    "    else:\n",
    "        return 'positive'\n",
    "        \n",
    "    "
   ]
  },
  {
   "cell_type": "code",
   "execution_count": 46,
   "metadata": {},
   "outputs": [],
   "source": [
    "comment['polarity']=comment['polarity'].apply(foo2)"
   ]
  },
  {
   "cell_type": "code",
   "execution_count": 47,
   "metadata": {},
   "outputs": [
    {
     "data": {
      "text/plain": [
       "<matplotlib.axes._subplots.AxesSubplot at 0x13761a5ca08>"
      ]
     },
     "execution_count": 47,
     "metadata": {},
     "output_type": "execute_result"
    },
    {
     "data": {
      "image/png": "[encoded data removed]",
      "text/plain": [
       "<Figure size 432x288 with 1 Axes>"
      ]
     },
     "metadata": {},
     "output_type": "display_data"
    }
   ],
   "source": [
    "comment.polarity.value_counts().plot(kind='pie')"
   ]
  },
  {
   "cell_type": "code",
   "execution_count": 70,
   "metadata": {},
   "outputs": [],
   "source": [
    "#mostly comments are positive and neutral"
   ]
  },
  {
   "cell_type": "code",
   "execution_count": 71,
   "metadata": {},
   "outputs": [
    {
     "data": {
      "text/plain": [
       "neutral     0.483444\n",
       "positive    0.463576\n",
       "negative    0.052980\n",
       "Name: polarity, dtype: float64"
      ]
     },
     "execution_count": 71,
     "metadata": {},
     "output_type": "execute_result"
    }
   ],
   "source": [
    "comment.polarity.value_counts(normalize=True)"
   ]
  },
  {
   "cell_type": "code",
   "execution_count": null,
   "metadata": {},
   "outputs": [],
   "source": []
  },
  {
   "cell_type": "code",
   "execution_count": null,
   "metadata": {},
   "outputs": [],
   "source": []
  }
 ],
 "metadata": {
  "kernelspec": {
   "display_name": "Python 3",
   "language": "python",
   "name": "python3"
  },
  "language_info": {
   "codemirror_mode": {
    "name": "ipython",
    "version": 3
   },
   "file_extension": ".py",
   "mimetype": "text/x-python",
   "name": "python",
   "nbconvert_exporter": "python",
   "pygments_lexer": "ipython3",
   "version": "3.7.4"
  }
 },
 "nbformat": 4,
 "nbformat_minor": 2
}
